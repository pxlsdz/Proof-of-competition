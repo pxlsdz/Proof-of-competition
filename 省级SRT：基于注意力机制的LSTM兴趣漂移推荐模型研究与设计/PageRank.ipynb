{
 "cells": [
  {
   "cell_type": "markdown",
   "metadata": {},
   "source": [
    "# 导入包"
   ]
  },
  {
   "cell_type": "code",
   "execution_count": 1,
   "metadata": {},
   "outputs": [],
   "source": [
    "import pandas as pd\n",
    "import numpy as np\n",
    "import matplotlib.pyplot as plt\n",
    "import readers\n",
    "import networkx as nx\n",
    "%matplotlib inline"
   ]
  },
  {
   "cell_type": "markdown",
   "metadata": {},
   "source": [
    "# 读取数据并构建UI矩阵"
   ]
  },
  {
   "cell_type": "code",
   "execution_count": 2,
   "metadata": {},
   "outputs": [],
   "source": [
    "avg=0\n",
    "num=0\n",
    "def loadData(fp=\"data_deal/ml-1m/ratings.dat\"):\n",
    "    data = []\n",
    "    user_set=set()\n",
    "    item_set=set()\n",
    "    \n",
    "    for l in open(fp):\n",
    "        temp=list(map(int,l.strip().split('::')))\n",
    "        \n",
    "        data.append(temp)\n",
    "        user_set.add(temp[0])\n",
    "        item_set.add(temp[1])\n",
    "    data=list(sorted(data,key=lambda x:x[3]))\n",
    "\n",
    "    return data,user_set,item_set\n",
    "def dealData(data):\n",
    "    \n",
    "    train = []\n",
    "    le=len(data)\n",
    "    rating_dict={}\n",
    "    time_dict={}\n",
    "    for user, item, rating, timestamp in data:\n",
    "        addtwodimdict(rating_dict, user, item, rating) # 得分字典 rating_dict\n",
    "        addtwodimdict(time_dict, user, item, timestamp) # 时间戳字典 time_dict\n",
    "        global avg,num\n",
    "        avg+=rating\n",
    "        num+=1\n",
    "        train.append((user, item))\n",
    "\n",
    "    \n",
    "    # 处理成字典的形式，user->set(items)\n",
    "    def convert_dict(data):\n",
    "        data_dict = {}\n",
    "        for user, item in data:\n",
    "            if user not in data_dict:\n",
    "                data_dict[user] = set()\n",
    "            data_dict[user].add(item)\n",
    "        data_dict = {k: list(data_dict[k]) for k in data_dict}\n",
    "        return data_dict\n",
    "\n",
    "    return convert_dict(train), rating_dict,time_dict\n",
    "#二维字典的添加\n",
    "def addtwodimdict(thedict, key_a, key_b, val):\n",
    "    if key_a in thedict:\n",
    "        thedict[key_a].update({key_b: val})\n",
    "    else:\n",
    "        thedict.update({key_a:{key_b: val}})    "
   ]
  },
  {
   "cell_type": "code",
   "execution_count": 3,
   "metadata": {},
   "outputs": [],
   "source": [
    "# 获取电影类别字典\n",
    "def getGenreDict():\n",
    "    genres=pd.read_csv('best_clusterid.csv')\n",
    "    genre={}\n",
    "    for index in genres.index:\n",
    "        temp=genres.loc[index].values[0]\n",
    "        genre[index+1]=temp\n",
    "    return genre"
   ]
  },
  {
   "cell_type": "code",
   "execution_count": 4,
   "metadata": {},
   "outputs": [],
   "source": [
    "data,user_set,item_set=loadData()"
   ]
  },
  {
   "cell_type": "code",
   "execution_count": 5,
   "metadata": {},
   "outputs": [],
   "source": [
    "u_i,rating_dict,time_dict=dealData(data)#用户数6040，电影数3952"
   ]
  },
  {
   "cell_type": "code",
   "execution_count": 6,
   "metadata": {},
   "outputs": [],
   "source": [
    "genre_dict=getGenreDict() # 获取电影类别字典"
   ]
  },
  {
   "cell_type": "markdown",
   "metadata": {},
   "source": [
    "# 建图"
   ]
  },
  {
   "cell_type": "code",
   "execution_count": 7,
   "metadata": {},
   "outputs": [],
   "source": [
    "#获取初始用户-电影字典与用户-时间戳字典\n",
    "def getInitItem(time_dict):\n",
    "    # 将时间戳字典按时间戳升序\n",
    "    for user in time_dict:\n",
    "        sorted(time_dict[user].items(),key=lambda x:x[1],reverse=True)\n",
    "        \n",
    "    # 将所有用户的电影序列取出\n",
    "    user_item_dict={}\n",
    "    user_time_dict={}\n",
    "    for user_k,user_v in time_dict.items():\n",
    "        item_temp=[]\n",
    "        time_temp=[]\n",
    "        for item_k,item_v in time_dict[user_k].items(): \n",
    "            item_temp.append(item_k)\n",
    "            time_temp.append(item_v)\n",
    "        user_item_dict[user_k]=item_temp\n",
    "        user_time_dict[user_k]=time_temp\n",
    "        \n",
    "    return user_item_dict,user_time_dict"
   ]
  },
  {
   "cell_type": "code",
   "execution_count": 8,
   "metadata": {},
   "outputs": [],
   "source": [
    "# 获取边集\n",
    "def getEdges(user_item_dict,user_time_dict):\n",
    "    edges=[]\n",
    "    users_len=len(user_item_dict)+1\n",
    "    for user in range(1,users_len):\n",
    "        items=user_item_dict[user]\n",
    "        times=user_time_dict[user]\n",
    "        items_len=len(items)\n",
    "        for i in range(items_len):\n",
    "            flag=-1\n",
    "            for j in range(i+1,items_len):\n",
    "                if times[i]==times[j]:\n",
    "                    continue\n",
    "                if times[i]!=times[j] and flag==-1:\n",
    "                    temp=(items[i],items[j])\n",
    "                    edges.append(temp)\n",
    "                    flag=times[j]\n",
    "                elif times[j]==flag:\n",
    "                    temp=(items[i],items[j])\n",
    "                    edges.append(temp)\n",
    "                else:\n",
    "                    break\n",
    "    return edges"
   ]
  },
  {
   "cell_type": "code",
   "execution_count": 9,
   "metadata": {},
   "outputs": [],
   "source": [
    "user_item_dict,user_time_dict=getInitItem(time_dict)#获取用户-电影字典与用户-时间戳字典"
   ]
  },
  {
   "cell_type": "code",
   "execution_count": 10,
   "metadata": {},
   "outputs": [],
   "source": [
    "edges=getEdges(user_item_dict,user_time_dict)#获取边集"
   ]
  },
  {
   "cell_type": "code",
   "execution_count": 11,
   "metadata": {},
   "outputs": [],
   "source": [
    "# 建图添边\n",
    "G = nx.DiGraph()\n",
    "for edge in edges:\n",
    "    G.add_edge(edge[0], edge[1])"
   ]
  },
  {
   "cell_type": "code",
   "execution_count": 12,
   "metadata": {},
   "outputs": [],
   "source": [
    "# plt.figure(figsize=(20,20))\n",
    "# pos = nx.circular_layout(G)"
   ]
  },
  {
   "cell_type": "code",
   "execution_count": 13,
   "metadata": {},
   "outputs": [],
   "source": [
    "# nx.draw_networkx(G, pos)"
   ]
  },
  {
   "cell_type": "markdown",
   "metadata": {},
   "source": [
    "# 每个电影相关参数"
   ]
  },
  {
   "cell_type": "code",
   "execution_count": 14,
   "metadata": {},
   "outputs": [],
   "source": [
    "pagerank_list = nx.pagerank(G, alpha=0.85) # pagerank值\n",
    "in_d=G.in_degree(G)# 入度\n",
    "out_d=G.out_degree(G) #出度"
   ]
  },
  {
   "cell_type": "code",
   "execution_count": 27,
   "metadata": {},
   "outputs": [],
   "source": [
    "# pagerank_list"
   ]
  },
  {
   "cell_type": "code",
   "execution_count": 28,
   "metadata": {},
   "outputs": [],
   "source": [
    "# in_d"
   ]
  },
  {
   "cell_type": "code",
   "execution_count": 29,
   "metadata": {},
   "outputs": [],
   "source": [
    "# out_d"
   ]
  },
  {
   "cell_type": "markdown",
   "metadata": {},
   "source": [
    "# 普通推荐"
   ]
  },
  {
   "cell_type": "markdown",
   "metadata": {},
   "source": [
    "## 普通推荐"
   ]
  },
  {
   "cell_type": "code",
   "execution_count": 15,
   "metadata": {},
   "outputs": [],
   "source": [
    "# 获取边集字典(不含重边)\n",
    "def getEdgeDict(edges):\n",
    "    set_edges=list(set(edges))# 边集转集合\n",
    "    set_edges=sorted(set_edges)# 排序\n",
    "    \n",
    "    i=1\n",
    "    temp=[]\n",
    "    edge_dict={}# 边集字典\n",
    "    for edge in set_edges:\n",
    "        if edge[0]==i:\n",
    "            temp.append(edge)\n",
    "        else:\n",
    "            edge_dict.setdefault(i,temp)\n",
    "            i=i+1\n",
    "            temp=[]\n",
    "    edge_dict.setdefault(i,temp)\n",
    "    return edge_dict"
   ]
  },
  {
   "cell_type": "code",
   "execution_count": 16,
   "metadata": {},
   "outputs": [],
   "source": [
    "# 获取用户i的所有出点\n",
    "def getOutNode(i,time_dict,edge_dict):\n",
    "    # 用户i所有的点\n",
    "    node_i=set()\n",
    "    for key in time_dict[i]:\n",
    "        node_i.add(key)\n",
    "        \n",
    "    # 用户i的相关点，包括其本身\n",
    "    correlation_nodes=set()\n",
    "    for node in node_i:\n",
    "        for edge in edge_dict[node]:\n",
    "            correlation_nodes.add(edge[1])\n",
    "    \n",
    "    # 用户i的出点\n",
    "    out_node=correlation_nodes-node_i\n",
    "    return out_node"
   ]
  },
  {
   "cell_type": "code",
   "execution_count": 17,
   "metadata": {},
   "outputs": [],
   "source": [
    "# 获取用户i的PR值\n",
    "def getNodePR(node,genre_dict,pagerank_list):\n",
    "    # 替换为pr值\n",
    "    node=list(node)\n",
    "    for i in range(len(node)):\n",
    "        node[i]=(node[i],genre_dict[node[i]],pagerank_list[node[i]])\n",
    "    return node"
   ]
  },
  {
   "cell_type": "code",
   "execution_count": 18,
   "metadata": {},
   "outputs": [],
   "source": [
    "# 为用户i推荐10部pr值最大的电影\n",
    "def recommendTop10(node):\n",
    "    res=sorted(node,key=lambda x:x[2],reverse=True)#降序排序\n",
    "    \n",
    "    ls=[]\n",
    "    for i in range(0,10):\n",
    "        ls.append(res[i])\n",
    "    return ls"
   ]
  },
  {
   "cell_type": "code",
   "execution_count": 19,
   "metadata": {},
   "outputs": [],
   "source": [
    "edge_dict=getEdgeDict(edges)# 获取边集字典(不含重边)"
   ]
  },
  {
   "cell_type": "code",
   "execution_count": 20,
   "metadata": {},
   "outputs": [
    {
     "data": {
      "text/plain": [
       "3952"
      ]
     },
     "execution_count": 20,
     "metadata": {},
     "output_type": "execute_result"
    }
   ],
   "source": [
    "len(edge_dict)"
   ]
  },
  {
   "cell_type": "code",
   "execution_count": 21,
   "metadata": {},
   "outputs": [],
   "source": [
    "top10={}\n",
    "for i in range(1,6040+1):\n",
    "    out_node=getOutNode(i,time_dict,edge_dict) # 用户i的出点\n",
    "    PR=getNodePR(out_node,genre_dict,pagerank_list) # 用户i出点的PR值\n",
    "    ls=recommendTop10(PR) # 选取10个pr值最大的电影\n",
    "    top10[i]=ls\n",
    "    break"
   ]
  },
  {
   "cell_type": "code",
   "execution_count": 22,
   "metadata": {
    "scrolled": true
   },
   "outputs": [
    {
     "data": {
      "text/plain": [
       "{1: [(2858, 2857, 0.001789833879293117),\n",
       "  (858, 857, 0.0014370772244095293),\n",
       "  (1196, 1195, 0.0014061702908526495),\n",
       "  (1198, 1197, 0.0013637330042874484),\n",
       "  (1617, 1616, 0.001274718603129791),\n",
       "  (589, 588, 0.0012323134838280864),\n",
       "  (541, 540, 0.0011925837995145304),\n",
       "  (593, 592, 0.001189498939945671),\n",
       "  (318, 317, 0.0011563019039531556),\n",
       "  (110, 109, 0.0011470695734840054)]}"
      ]
     },
     "execution_count": 22,
     "metadata": {},
     "output_type": "execute_result"
    }
   ],
   "source": [
    "top10"
   ]
  },
  {
   "cell_type": "markdown",
   "metadata": {},
   "source": [
    "## 新推荐"
   ]
  },
  {
   "cell_type": "code",
   "execution_count": 23,
   "metadata": {},
   "outputs": [],
   "source": [
    "# 获取边集字典(含重边)\n",
    "def getRepeatEdgeDict(edges):    \n",
    "    set_edges=sorted(edges)# 排序\n",
    "    \n",
    "    i=1\n",
    "    temp=[]\n",
    "    edge_dict={}# 边集字典\n",
    "    for edge in set_edges:\n",
    "        if edge[0]==i:\n",
    "            temp.append(edge)\n",
    "        else:\n",
    "            edge_dict.setdefault(i,temp)\n",
    "            i=i+1\n",
    "            temp=[]\n",
    "    edge_dict.setdefault(i,temp)\n",
    "    return edge_dict"
   ]
  },
  {
   "cell_type": "code",
   "execution_count": 24,
   "metadata": {},
   "outputs": [],
   "source": [
    "# 获取每个点对每个类的重要程度\n",
    "def getNodeForGenreImportant(node,repeat_edge_dict,genre_dict):\n",
    "    n=len(repeat_edge_dict[node])\n",
    "    if n==0:\n",
    "        return [0 for i in range(10)]\n",
    "    \n",
    "    out_node_genre_count=[0 for i in range(10)]#出点各类别计数\n",
    "    for edge in repeat_edge_dict[node]:\n",
    "        out_node=edge[1]#出点\n",
    "        out_node_genre=genre_dict[out_node]#出点所属类别\n",
    "        out_node_genre_count[out_node_genre-1] += 1\n",
    "    \n",
    "    # 该点对各类的重要程度\n",
    "    res=[]\n",
    "    for i in out_node_genre_count:\n",
    "        res.append(i/n)\n",
    "    return res    "
   ]
  },
  {
   "cell_type": "code",
   "execution_count": 25,
   "metadata": {},
   "outputs": [],
   "source": [
    "#获取每个电影对每个类的重要程度的字典\n",
    "def getImportantDict(repeat_edge_dict,genre_dict):\n",
    "    res={}\n",
    "    for i in range(1,3952+1):\n",
    "        res[i]=getNodeForGenreImportant(i,repeat_edge_dict,genre_dict)\n",
    "    return res"
   ]
  },
  {
   "cell_type": "code",
   "execution_count": 26,
   "metadata": {},
   "outputs": [],
   "source": [
    "# 计算每个用户top10的pr值与重要程度的乘积\n",
    "def getPrMulImportant(top10,important_dict):\n",
    "    res={}\n",
    "    for user_k,user_v in top10.items():\n",
    "        pr=[]\n",
    "        important=[]\n",
    "        for item in user_v:\n",
    "            pr_temp=item[2] # 电影pr值\n",
    "            important_temp=important_dict[item[0]]#电影的重要程度\n",
    "            pr.append(pr_temp)\n",
    "            important.append(important_temp)\n",
    "        pr=np.mat(pr).reshape(10,1)\n",
    "        important=np.mat(important)\n",
    "\n",
    "        res[user_k]=important*pr\n",
    "    return res"
   ]
  },
  {
   "cell_type": "code",
   "execution_count": 27,
   "metadata": {},
   "outputs": [
    {
     "ename": "IndexError",
     "evalue": "list index out of range",
     "output_type": "error",
     "traceback": [
      "\u001b[1;31m---------------------------------------------------------------------------\u001b[0m",
      "\u001b[1;31mIndexError\u001b[0m                                Traceback (most recent call last)",
      "\u001b[1;32m<ipython-input-27-e16f556d2100>\u001b[0m in \u001b[0;36m<module>\u001b[1;34m\u001b[0m\n\u001b[0;32m      1\u001b[0m \u001b[0mrepeat_edge_dict\u001b[0m\u001b[1;33m=\u001b[0m\u001b[0mgetRepeatEdgeDict\u001b[0m\u001b[1;33m(\u001b[0m\u001b[0medges\u001b[0m\u001b[1;33m)\u001b[0m\u001b[1;31m# 获取边集字典(含重边)\u001b[0m\u001b[1;33m\u001b[0m\u001b[1;33m\u001b[0m\u001b[0m\n\u001b[1;32m----> 2\u001b[1;33m \u001b[0mimportant_dict\u001b[0m\u001b[1;33m=\u001b[0m\u001b[0mgetImportantDict\u001b[0m\u001b[1;33m(\u001b[0m\u001b[0mrepeat_edge_dict\u001b[0m\u001b[1;33m,\u001b[0m\u001b[0mgenre_dict\u001b[0m\u001b[1;33m)\u001b[0m\u001b[1;31m#获取每个电影对每个类的重要程度的字典\u001b[0m\u001b[1;33m\u001b[0m\u001b[1;33m\u001b[0m\u001b[0m\n\u001b[0m\u001b[0;32m      3\u001b[0m \u001b[0mpr_mul_important\u001b[0m\u001b[1;33m=\u001b[0m\u001b[0mgetPrMulImportant\u001b[0m\u001b[1;33m(\u001b[0m\u001b[0mtop10\u001b[0m\u001b[1;33m,\u001b[0m\u001b[0mimportant_dict\u001b[0m\u001b[1;33m)\u001b[0m\u001b[1;31m# 计算每个用户top10的pr值与重要程度的乘积\u001b[0m\u001b[1;33m\u001b[0m\u001b[1;33m\u001b[0m\u001b[0m\n",
      "\u001b[1;32m<ipython-input-25-4a2de3fe7cc8>\u001b[0m in \u001b[0;36mgetImportantDict\u001b[1;34m(repeat_edge_dict, genre_dict)\u001b[0m\n\u001b[0;32m      3\u001b[0m     \u001b[0mres\u001b[0m\u001b[1;33m=\u001b[0m\u001b[1;33m{\u001b[0m\u001b[1;33m}\u001b[0m\u001b[1;33m\u001b[0m\u001b[1;33m\u001b[0m\u001b[0m\n\u001b[0;32m      4\u001b[0m     \u001b[1;32mfor\u001b[0m \u001b[0mi\u001b[0m \u001b[1;32min\u001b[0m \u001b[0mrange\u001b[0m\u001b[1;33m(\u001b[0m\u001b[1;36m1\u001b[0m\u001b[1;33m,\u001b[0m\u001b[1;36m3952\u001b[0m\u001b[1;33m+\u001b[0m\u001b[1;36m1\u001b[0m\u001b[1;33m)\u001b[0m\u001b[1;33m:\u001b[0m\u001b[1;33m\u001b[0m\u001b[1;33m\u001b[0m\u001b[0m\n\u001b[1;32m----> 5\u001b[1;33m         \u001b[0mres\u001b[0m\u001b[1;33m[\u001b[0m\u001b[0mi\u001b[0m\u001b[1;33m]\u001b[0m\u001b[1;33m=\u001b[0m\u001b[0mgetNodeForGenreImportant\u001b[0m\u001b[1;33m(\u001b[0m\u001b[0mi\u001b[0m\u001b[1;33m,\u001b[0m\u001b[0mrepeat_edge_dict\u001b[0m\u001b[1;33m,\u001b[0m\u001b[0mgenre_dict\u001b[0m\u001b[1;33m)\u001b[0m\u001b[1;33m\u001b[0m\u001b[1;33m\u001b[0m\u001b[0m\n\u001b[0m\u001b[0;32m      6\u001b[0m     \u001b[1;32mreturn\u001b[0m \u001b[0mres\u001b[0m\u001b[1;33m\u001b[0m\u001b[1;33m\u001b[0m\u001b[0m\n",
      "\u001b[1;32m<ipython-input-24-44dfcde25807>\u001b[0m in \u001b[0;36mgetNodeForGenreImportant\u001b[1;34m(node, repeat_edge_dict, genre_dict)\u001b[0m\n\u001b[0;32m      9\u001b[0m         \u001b[0mout_node\u001b[0m\u001b[1;33m=\u001b[0m\u001b[0medge\u001b[0m\u001b[1;33m[\u001b[0m\u001b[1;36m1\u001b[0m\u001b[1;33m]\u001b[0m\u001b[1;31m#出点\u001b[0m\u001b[1;33m\u001b[0m\u001b[1;33m\u001b[0m\u001b[0m\n\u001b[0;32m     10\u001b[0m         \u001b[0mout_node_genre\u001b[0m\u001b[1;33m=\u001b[0m\u001b[0mgenre_dict\u001b[0m\u001b[1;33m[\u001b[0m\u001b[0mout_node\u001b[0m\u001b[1;33m]\u001b[0m\u001b[1;31m#出点所属类别\u001b[0m\u001b[1;33m\u001b[0m\u001b[1;33m\u001b[0m\u001b[0m\n\u001b[1;32m---> 11\u001b[1;33m         \u001b[0mout_node_genre_count\u001b[0m\u001b[1;33m[\u001b[0m\u001b[0mout_node_genre\u001b[0m\u001b[1;33m-\u001b[0m\u001b[1;36m1\u001b[0m\u001b[1;33m]\u001b[0m \u001b[1;33m+=\u001b[0m \u001b[1;36m1\u001b[0m\u001b[1;33m\u001b[0m\u001b[1;33m\u001b[0m\u001b[0m\n\u001b[0m\u001b[0;32m     12\u001b[0m \u001b[1;33m\u001b[0m\u001b[0m\n\u001b[0;32m     13\u001b[0m     \u001b[1;31m# 该点对各类的重要程度\u001b[0m\u001b[1;33m\u001b[0m\u001b[1;33m\u001b[0m\u001b[1;33m\u001b[0m\u001b[0m\n",
      "\u001b[1;31mIndexError\u001b[0m: list index out of range"
     ]
    }
   ],
   "source": [
    "repeat_edge_dict=getRepeatEdgeDict(edges)# 获取边集字典(含重边)\n",
    "important_dict=getImportantDict(repeat_edge_dict,genre_dict)#获取每个电影对每个类的重要程度的字典\n",
    "pr_mul_important=getPrMulImportant(top10,important_dict)# 计算每个用户top10的pr值与重要程度的乘积"
   ]
  },
  {
   "cell_type": "code",
   "execution_count": null,
   "metadata": {},
   "outputs": [],
   "source": [
    "pr_mul_important"
   ]
  },
  {
   "cell_type": "markdown",
   "metadata": {},
   "source": [
    "# 迭代推荐"
   ]
  },
  {
   "cell_type": "code",
   "execution_count": 44,
   "metadata": {},
   "outputs": [],
   "source": [
    "# 添加推荐的边\n",
    "def addRecommendEdge(nG,new_edges,new_top10):\n",
    "    for top_k,top_v in new_top10.items():\n",
    "        #user=time_dict[top_k] # 用户top_k所看的电影-时间戳字典\n",
    "        item_len=len(time_dict[top_k])# 用户top_k已看电影个数\n",
    "        items_ls=list(time_dict[top_k].keys()) # 用户top_k已看电影的电影列表\n",
    "        last_item=items_ls[item_len-1]# 用户top_k所看的最后一个电影的序号\n",
    "    \n",
    "        # 添边\n",
    "        for item in top_v:\n",
    "            nG.add_edge(last_item,item[0])#在图中添边\n",
    "            \n",
    "            temp=(last_item,item[0])\n",
    "            new_edges.append(temp)#在边集中添边\n",
    "    return nG,new_edges"
   ]
  },
  {
   "cell_type": "code",
   "execution_count": 45,
   "metadata": {},
   "outputs": [],
   "source": [
    "#将推荐加入电影-时间戳字典\n",
    "def addRecommendTimeDict(time_dict,new_top10):\n",
    "    for top_k,top_v in new_top10.items():\n",
    "        #user=time_dict[top_k] # 用户top_k所看的电影-时间戳字典\n",
    "        item_len=len(time_dict[top_k])# 用户top_k已看电影个数\n",
    "        times_ls=list(time_dict[top_k].values()) # 用户top_k已看电影的时间戳列表\n",
    "        last_time=times_ls[item_len-1]# 用户top_k所看的最后一个电影的时间戳\n",
    "\n",
    "        i=1 # 计时器\n",
    "        for item in top_v:# 推荐的电影\n",
    "            #user[item[0]]=last_time+i # 推荐的电影加入用户top_k所看的电影时间戳字典\n",
    "            time_dict[top_k][item[0]]=last_time+i\n",
    "            i+=1\n",
    "    return time_dict"
   ]
  },
  {
   "cell_type": "code",
   "execution_count": 46,
   "metadata": {},
   "outputs": [],
   "source": [
    "# 迭代推荐\n",
    "def recommend(num,n,nG,new_edges,new_top10,new_time_dict,genre_dict,recommend_res,important_res):\n",
    "    if num==n+1:\n",
    "        return recommend_res,important_res\n",
    "    \n",
    "    nG,new_edges=addRecommendEdge(nG,new_edges,new_top10) # 添边\n",
    "    new_time_dict=addRecommendTimeDict(new_time_dict,new_top10) # 获取电影-时间戳字典\n",
    "    new_pagerank_list = nx.pagerank(nG, alpha=0.85) # pagerank值\n",
    "    \n",
    "    #--------------------第一种-----------------------------\n",
    "    new_edge_dict=getEdgeDict(new_edges)# 获取边集字典(不含重边)\n",
    "\n",
    "    for i in range(1,6040+1):\n",
    "        out_node=getOutNode(i,new_time_dict,new_edge_dict) # 用户i的出点\n",
    "        PR=getNodePR(out_node,genre_dict,pagerank_list) # 用户i出点的PR值\n",
    "        ls=recommendTop10(PR) # 选取10个pr值最大的电影\n",
    "        new_top10[i]=ls\n",
    "        break\n",
    "    \n",
    "    recommend_res[num]=new_top10.copy()\n",
    "    \n",
    "    #--------------------第二种-----------------------------\n",
    "    \n",
    "    new_repeat_edge_dict=getRepeatEdgeDict(new_edges)# 获取边集字典(含重边)\n",
    "    new_important_dict=getImportantDict(new_repeat_edge_dict,genre_dict)#获取每个电影对每个类的重要程度的字典\n",
    "    new_pr_mul_important=getPrMulImportant(new_top10,new_important_dict)# 计算每个用户top10的pr值与重要程度的乘积\n",
    "    \n",
    "    important_res[num]=new_pr_mul_important.copy()\n",
    "\n",
    "    #--------------------下一次迭代--------------------------\n",
    "    recommend_res,important_res=recommend(num+1,n,nG,new_edges,new_top10,new_time_dict,genre_dict,recommend_res,important_res)\n",
    "    return recommend_res,important_res"
   ]
  },
  {
   "cell_type": "code",
   "execution_count": 73,
   "metadata": {},
   "outputs": [],
   "source": [
    "# 统计推荐结果中的类\n",
    "def getCountGenre(recommend_res):\n",
    "    res={}\n",
    "    for res_k,res_v in recommend_res.items():#枚举推荐次数\n",
    "        user={}\n",
    "        for i in range(1,6040+1):#枚举用户\n",
    "            ls=[0 for i in range(10)]\n",
    "            for j in res_v[i]:#枚举top10\n",
    "                ls[j[1]-1]+=1\n",
    "            user[i]=ls\n",
    "            break\n",
    "        res[res_k]=user\n",
    "    return res"
   ]
  },
  {
   "cell_type": "code",
   "execution_count": 49,
   "metadata": {},
   "outputs": [],
   "source": [
    "nG=G.copy()\n",
    "new_top10=top10.copy()\n",
    "new_edges=edges.copy()\n",
    "new_time_dict=time_dict.copy()\n",
    "recommend_res={}\n",
    "recommend_res[0]=new_top10.copy()\n",
    "important_res={}\n",
    "important_res[0]=pr_mul_important"
   ]
  },
  {
   "cell_type": "code",
   "execution_count": 50,
   "metadata": {},
   "outputs": [],
   "source": [
    "# 每次迭代的推荐结果和重要程度\n",
    "#recommand_res[i]/important_res[i]代表第i次迭代的推荐结果/重要程度\n",
    "#recommand_res[i][j]/important_res[i][j]代表第i次迭代中用户j的推荐结果/重要程度\n",
    "recommend_res,important_res=recommend(1,2,nG,new_edges,new_top10,new_time_dict,genre_dict,recommend_res,important_res)"
   ]
  },
  {
   "cell_type": "code",
   "execution_count": 76,
   "metadata": {},
   "outputs": [
    {
     "data": {
      "text/plain": [
       "{0: {1: [9, 0, 0, 0, 0, 1, 0, 0, 0, 0]},\n",
       " 1: {1: [4, 1, 0, 2, 0, 3, 0, 0, 0, 0]},\n",
       " 2: {1: [4, 1, 0, 0, 0, 4, 0, 0, 1, 0]}}"
      ]
     },
     "execution_count": 76,
     "metadata": {},
     "output_type": "execute_result"
    }
   ],
   "source": [
    "# 统计每次迭代推荐结果中的类\n",
    "# count_genre[i]代表第i次迭代的统计结果\n",
    "# count_genre[i][j]代表第i次迭代中用户j的统计结果\n",
    "count_genre=getCountGenre(recommend_res)"
   ]
  },
  {
   "cell_type": "code",
   "execution_count": 77,
   "metadata": {},
   "outputs": [
    {
     "data": {
      "text/plain": [
       "{0: {1: [(2858, 1, 0.001789833879293117),\n",
       "   (858, 1, 0.0014370772244095293),\n",
       "   (1196, 1, 0.0014061702908526495),\n",
       "   (1198, 1, 0.0013637330042874484),\n",
       "   (1617, 1, 0.001274718603129791),\n",
       "   (589, 6, 0.0012323134838280864),\n",
       "   (541, 1, 0.0011925837995145304),\n",
       "   (593, 1, 0.001189498939945671),\n",
       "   (318, 1, 0.0011563019039531556),\n",
       "   (110, 1, 0.0011470695734840054)]},\n",
       " 1: {1: [(2571, 1, 0.0011324218892936654),\n",
       "   (1214, 6, 0.0011144564549820596),\n",
       "   (1221, 1, 0.0011059624823464688),\n",
       "   (2706, 2, 0.0011003622780941412),\n",
       "   (2997, 1, 0.001100319033689888),\n",
       "   (3751, 4, 0.001089572413707119),\n",
       "   (1210, 6, 0.001052814323857144),\n",
       "   (50, 1, 0.0010494538794012965),\n",
       "   (3578, 4, 0.001042210806539038),\n",
       "   (3481, 6, 0.0010182738938777954)]},\n",
       " 2: {1: [(3897, 6, 0.0010103489870989192),\n",
       "   (296, 1, 0.001010251762920457),\n",
       "   (1127, 2, 0.0010009209762536812),\n",
       "   (750, 1, 0.0009992391121497384),\n",
       "   (2396, 6, 0.0009989571978718185),\n",
       "   (3793, 6, 0.0009975659841270975),\n",
       "   (912, 1, 0.0009834846814824358),\n",
       "   (1252, 1, 0.000982761427891155),\n",
       "   (356, 6, 0.0009738790283221806),\n",
       "   (480, 9, 0.0009651614103573503)]}}"
      ]
     },
     "execution_count": 77,
     "metadata": {},
     "output_type": "execute_result"
    }
   ],
   "source": [
    "recommend_res"
   ]
  },
  {
   "cell_type": "code",
   "execution_count": 109,
   "metadata": {},
   "outputs": [
    {
     "data": {
      "text/plain": [
       "{0: {1: matrix([[0.00144479],\n",
       "          [0.00152788],\n",
       "          [0.00143036],\n",
       "          [0.00146568],\n",
       "          [0.0014931 ],\n",
       "          [0.00137648],\n",
       "          [0.00143228],\n",
       "          [0.00149665],\n",
       "          [0.00157143],\n",
       "          [0.00139157]])}, 1: {1: matrix([[0.00088856],\n",
       "          [0.00088796],\n",
       "          [0.00089141],\n",
       "          [0.0008886 ],\n",
       "          [0.00089091],\n",
       "          [0.00088796],\n",
       "          [0.0008886 ],\n",
       "          [0.00088826],\n",
       "          [0.00088859],\n",
       "          [0.00088959]])}, 2: {1: matrix([[0.00083507],\n",
       "          [0.00083449],\n",
       "          [0.00084226],\n",
       "          [0.00083098],\n",
       "          [0.00083188],\n",
       "          [0.00083128],\n",
       "          [0.00083356],\n",
       "          [0.00083437],\n",
       "          [0.00083637],\n",
       "          [0.00083791]])}}"
      ]
     },
     "execution_count": 109,
     "metadata": {},
     "output_type": "execute_result"
    }
   ],
   "source": [
    "important_res"
   ]
  },
  {
   "cell_type": "code",
   "execution_count": null,
   "metadata": {},
   "outputs": [],
   "source": [
    "# 下面的代码都是暂时没用的"
   ]
  },
  {
   "cell_type": "markdown",
   "metadata": {},
   "source": [
    "# 读取聚类结果与质心"
   ]
  },
  {
   "cell_type": "code",
   "execution_count": 16,
   "metadata": {},
   "outputs": [],
   "source": [
    "cdata=pd.read_csv(\"./cdata.csv\")"
   ]
  },
  {
   "cell_type": "code",
   "execution_count": 17,
   "metadata": {},
   "outputs": [
    {
     "data": {
      "text/html": [
       "<div>\n",
       "<style scoped>\n",
       "    .dataframe tbody tr th:only-of-type {\n",
       "        vertical-align: middle;\n",
       "    }\n",
       "\n",
       "    .dataframe tbody tr th {\n",
       "        vertical-align: top;\n",
       "    }\n",
       "\n",
       "    .dataframe thead th {\n",
       "        text-align: right;\n",
       "    }\n",
       "</style>\n",
       "<table border=\"1\" class=\"dataframe\">\n",
       "  <thead>\n",
       "    <tr style=\"text-align: right;\">\n",
       "      <th></th>\n",
       "      <th>0</th>\n",
       "      <th>1</th>\n",
       "      <th>2</th>\n",
       "      <th>3</th>\n",
       "      <th>4</th>\n",
       "      <th>5</th>\n",
       "      <th>6</th>\n",
       "      <th>7</th>\n",
       "      <th>8</th>\n",
       "      <th>9</th>\n",
       "      <th>...</th>\n",
       "      <th>6030</th>\n",
       "      <th>6031</th>\n",
       "      <th>6032</th>\n",
       "      <th>6033</th>\n",
       "      <th>6034</th>\n",
       "      <th>6035</th>\n",
       "      <th>6036</th>\n",
       "      <th>6037</th>\n",
       "      <th>6038</th>\n",
       "      <th>6039</th>\n",
       "    </tr>\n",
       "  </thead>\n",
       "  <tbody>\n",
       "    <tr>\n",
       "      <th>0</th>\n",
       "      <td>4.351003</td>\n",
       "      <td>3.104621</td>\n",
       "      <td>2.706005</td>\n",
       "      <td>2.262216</td>\n",
       "      <td>2.564195</td>\n",
       "      <td>3.551919</td>\n",
       "      <td>2.929935</td>\n",
       "      <td>2.551357</td>\n",
       "      <td>2.133731</td>\n",
       "      <td>3.364310</td>\n",
       "      <td>...</td>\n",
       "      <td>2.717980</td>\n",
       "      <td>2.717682</td>\n",
       "      <td>2.718090</td>\n",
       "      <td>2.718087</td>\n",
       "      <td>2.717717</td>\n",
       "      <td>2.716878</td>\n",
       "      <td>2.717833</td>\n",
       "      <td>2.718275</td>\n",
       "      <td>2.718063</td>\n",
       "      <td>2.717901</td>\n",
       "    </tr>\n",
       "    <tr>\n",
       "      <th>1</th>\n",
       "      <td>4.721128</td>\n",
       "      <td>4.310512</td>\n",
       "      <td>4.137632</td>\n",
       "      <td>3.945831</td>\n",
       "      <td>4.172371</td>\n",
       "      <td>4.793374</td>\n",
       "      <td>4.553048</td>\n",
       "      <td>4.265765</td>\n",
       "      <td>3.829143</td>\n",
       "      <td>4.638895</td>\n",
       "      <td>...</td>\n",
       "      <td>4.499089</td>\n",
       "      <td>4.500317</td>\n",
       "      <td>4.499065</td>\n",
       "      <td>4.499225</td>\n",
       "      <td>4.499875</td>\n",
       "      <td>4.501488</td>\n",
       "      <td>4.499479</td>\n",
       "      <td>4.499210</td>\n",
       "      <td>4.498868</td>\n",
       "      <td>4.499742</td>\n",
       "    </tr>\n",
       "    <tr>\n",
       "      <th>2</th>\n",
       "      <td>4.321734</td>\n",
       "      <td>3.416504</td>\n",
       "      <td>3.242527</td>\n",
       "      <td>3.022776</td>\n",
       "      <td>3.280313</td>\n",
       "      <td>4.096947</td>\n",
       "      <td>3.661370</td>\n",
       "      <td>3.349515</td>\n",
       "      <td>2.920888</td>\n",
       "      <td>3.788859</td>\n",
       "      <td>...</td>\n",
       "      <td>3.583404</td>\n",
       "      <td>3.583304</td>\n",
       "      <td>3.583433</td>\n",
       "      <td>3.583414</td>\n",
       "      <td>3.583363</td>\n",
       "      <td>3.583213</td>\n",
       "      <td>3.583375</td>\n",
       "      <td>3.583407</td>\n",
       "      <td>3.583471</td>\n",
       "      <td>3.583360</td>\n",
       "    </tr>\n",
       "    <tr>\n",
       "      <th>3</th>\n",
       "      <td>4.252725</td>\n",
       "      <td>3.495686</td>\n",
       "      <td>3.394878</td>\n",
       "      <td>3.220026</td>\n",
       "      <td>3.461988</td>\n",
       "      <td>4.228834</td>\n",
       "      <td>3.833575</td>\n",
       "      <td>3.546555</td>\n",
       "      <td>3.109214</td>\n",
       "      <td>3.852128</td>\n",
       "      <td>...</td>\n",
       "      <td>3.779353</td>\n",
       "      <td>3.779516</td>\n",
       "      <td>3.779330</td>\n",
       "      <td>3.779375</td>\n",
       "      <td>3.779519</td>\n",
       "      <td>3.779776</td>\n",
       "      <td>3.779456</td>\n",
       "      <td>3.779329</td>\n",
       "      <td>3.779362</td>\n",
       "      <td>3.779458</td>\n",
       "    </tr>\n",
       "    <tr>\n",
       "      <th>4</th>\n",
       "      <td>4.237093</td>\n",
       "      <td>3.517751</td>\n",
       "      <td>3.382041</td>\n",
       "      <td>3.332728</td>\n",
       "      <td>3.487509</td>\n",
       "      <td>4.195591</td>\n",
       "      <td>3.842585</td>\n",
       "      <td>3.672115</td>\n",
       "      <td>3.202708</td>\n",
       "      <td>3.730290</td>\n",
       "      <td>...</td>\n",
       "      <td>3.926770</td>\n",
       "      <td>3.927007</td>\n",
       "      <td>3.926726</td>\n",
       "      <td>3.926753</td>\n",
       "      <td>3.926903</td>\n",
       "      <td>3.927289</td>\n",
       "      <td>3.926899</td>\n",
       "      <td>3.926707</td>\n",
       "      <td>3.926699</td>\n",
       "      <td>3.926839</td>\n",
       "    </tr>\n",
       "    <tr>\n",
       "      <th>5</th>\n",
       "      <td>4.033106</td>\n",
       "      <td>2.924828</td>\n",
       "      <td>2.758756</td>\n",
       "      <td>2.502280</td>\n",
       "      <td>2.764834</td>\n",
       "      <td>3.624005</td>\n",
       "      <td>3.148985</td>\n",
       "      <td>2.825437</td>\n",
       "      <td>2.396335</td>\n",
       "      <td>3.308322</td>\n",
       "      <td>...</td>\n",
       "      <td>3.055145</td>\n",
       "      <td>3.054788</td>\n",
       "      <td>3.055277</td>\n",
       "      <td>3.055263</td>\n",
       "      <td>3.054993</td>\n",
       "      <td>3.054291</td>\n",
       "      <td>3.055046</td>\n",
       "      <td>3.055256</td>\n",
       "      <td>3.055358</td>\n",
       "      <td>3.055054</td>\n",
       "    </tr>\n",
       "    <tr>\n",
       "      <th>6</th>\n",
       "      <td>4.699018</td>\n",
       "      <td>4.001103</td>\n",
       "      <td>3.825278</td>\n",
       "      <td>3.611371</td>\n",
       "      <td>3.863967</td>\n",
       "      <td>4.673838</td>\n",
       "      <td>4.212145</td>\n",
       "      <td>3.928053</td>\n",
       "      <td>3.508926</td>\n",
       "      <td>4.343539</td>\n",
       "      <td>...</td>\n",
       "      <td>4.168321</td>\n",
       "      <td>4.168886</td>\n",
       "      <td>4.168235</td>\n",
       "      <td>4.168301</td>\n",
       "      <td>4.168728</td>\n",
       "      <td>4.169480</td>\n",
       "      <td>4.168499</td>\n",
       "      <td>4.168262</td>\n",
       "      <td>4.168210</td>\n",
       "      <td>4.168596</td>\n",
       "    </tr>\n",
       "    <tr>\n",
       "      <th>7</th>\n",
       "      <td>4.037593</td>\n",
       "      <td>2.987636</td>\n",
       "      <td>2.817626</td>\n",
       "      <td>2.499259</td>\n",
       "      <td>2.799231</td>\n",
       "      <td>3.722445</td>\n",
       "      <td>3.121138</td>\n",
       "      <td>2.787460</td>\n",
       "      <td>2.430204</td>\n",
       "      <td>3.657941</td>\n",
       "      <td>...</td>\n",
       "      <td>3.034181</td>\n",
       "      <td>3.033705</td>\n",
       "      <td>3.034188</td>\n",
       "      <td>3.034231</td>\n",
       "      <td>3.033989</td>\n",
       "      <td>3.033327</td>\n",
       "      <td>3.034096</td>\n",
       "      <td>3.034201</td>\n",
       "      <td>3.034339</td>\n",
       "      <td>3.034065</td>\n",
       "    </tr>\n",
       "    <tr>\n",
       "      <th>8</th>\n",
       "      <td>3.928156</td>\n",
       "      <td>3.338338</td>\n",
       "      <td>3.300757</td>\n",
       "      <td>3.451828</td>\n",
       "      <td>3.595491</td>\n",
       "      <td>3.945423</td>\n",
       "      <td>3.910298</td>\n",
       "      <td>3.904663</td>\n",
       "      <td>3.430095</td>\n",
       "      <td>3.774984</td>\n",
       "      <td>...</td>\n",
       "      <td>4.204223</td>\n",
       "      <td>4.204730</td>\n",
       "      <td>4.204080</td>\n",
       "      <td>4.204208</td>\n",
       "      <td>4.204463</td>\n",
       "      <td>4.205228</td>\n",
       "      <td>4.204428</td>\n",
       "      <td>4.204161</td>\n",
       "      <td>4.204031</td>\n",
       "      <td>4.204430</td>\n",
       "    </tr>\n",
       "    <tr>\n",
       "      <th>9</th>\n",
       "      <td>4.281143</td>\n",
       "      <td>3.491205</td>\n",
       "      <td>3.371086</td>\n",
       "      <td>3.177759</td>\n",
       "      <td>3.442673</td>\n",
       "      <td>4.125540</td>\n",
       "      <td>3.763937</td>\n",
       "      <td>3.572502</td>\n",
       "      <td>3.106502</td>\n",
       "      <td>3.730170</td>\n",
       "      <td>...</td>\n",
       "      <td>3.860130</td>\n",
       "      <td>3.860351</td>\n",
       "      <td>3.860109</td>\n",
       "      <td>3.860061</td>\n",
       "      <td>3.860223</td>\n",
       "      <td>3.860423</td>\n",
       "      <td>3.860123</td>\n",
       "      <td>3.860103</td>\n",
       "      <td>3.860121</td>\n",
       "      <td>3.860170</td>\n",
       "    </tr>\n",
       "  </tbody>\n",
       "</table>\n",
       "<p>10 rows × 6040 columns</p>\n",
       "</div>"
      ],
      "text/plain": [
       "          0         1         2         3         4         5         6  \\\n",
       "0  4.351003  3.104621  2.706005  2.262216  2.564195  3.551919  2.929935   \n",
       "1  4.721128  4.310512  4.137632  3.945831  4.172371  4.793374  4.553048   \n",
       "2  4.321734  3.416504  3.242527  3.022776  3.280313  4.096947  3.661370   \n",
       "3  4.252725  3.495686  3.394878  3.220026  3.461988  4.228834  3.833575   \n",
       "4  4.237093  3.517751  3.382041  3.332728  3.487509  4.195591  3.842585   \n",
       "5  4.033106  2.924828  2.758756  2.502280  2.764834  3.624005  3.148985   \n",
       "6  4.699018  4.001103  3.825278  3.611371  3.863967  4.673838  4.212145   \n",
       "7  4.037593  2.987636  2.817626  2.499259  2.799231  3.722445  3.121138   \n",
       "8  3.928156  3.338338  3.300757  3.451828  3.595491  3.945423  3.910298   \n",
       "9  4.281143  3.491205  3.371086  3.177759  3.442673  4.125540  3.763937   \n",
       "\n",
       "          7         8         9  ...      6030      6031      6032      6033  \\\n",
       "0  2.551357  2.133731  3.364310  ...  2.717980  2.717682  2.718090  2.718087   \n",
       "1  4.265765  3.829143  4.638895  ...  4.499089  4.500317  4.499065  4.499225   \n",
       "2  3.349515  2.920888  3.788859  ...  3.583404  3.583304  3.583433  3.583414   \n",
       "3  3.546555  3.109214  3.852128  ...  3.779353  3.779516  3.779330  3.779375   \n",
       "4  3.672115  3.202708  3.730290  ...  3.926770  3.927007  3.926726  3.926753   \n",
       "5  2.825437  2.396335  3.308322  ...  3.055145  3.054788  3.055277  3.055263   \n",
       "6  3.928053  3.508926  4.343539  ...  4.168321  4.168886  4.168235  4.168301   \n",
       "7  2.787460  2.430204  3.657941  ...  3.034181  3.033705  3.034188  3.034231   \n",
       "8  3.904663  3.430095  3.774984  ...  4.204223  4.204730  4.204080  4.204208   \n",
       "9  3.572502  3.106502  3.730170  ...  3.860130  3.860351  3.860109  3.860061   \n",
       "\n",
       "       6034      6035      6036      6037      6038      6039  \n",
       "0  2.717717  2.716878  2.717833  2.718275  2.718063  2.717901  \n",
       "1  4.499875  4.501488  4.499479  4.499210  4.498868  4.499742  \n",
       "2  3.583363  3.583213  3.583375  3.583407  3.583471  3.583360  \n",
       "3  3.779519  3.779776  3.779456  3.779329  3.779362  3.779458  \n",
       "4  3.926903  3.927289  3.926899  3.926707  3.926699  3.926839  \n",
       "5  3.054993  3.054291  3.055046  3.055256  3.055358  3.055054  \n",
       "6  4.168728  4.169480  4.168499  4.168262  4.168210  4.168596  \n",
       "7  3.033989  3.033327  3.034096  3.034201  3.034339  3.034065  \n",
       "8  4.204463  4.205228  4.204428  4.204161  4.204031  4.204430  \n",
       "9  3.860223  3.860423  3.860123  3.860103  3.860121  3.860170  \n",
       "\n",
       "[10 rows x 6040 columns]"
      ]
     },
     "execution_count": 17,
     "metadata": {},
     "output_type": "execute_result"
    }
   ],
   "source": [
    "cdata"
   ]
  },
  {
   "cell_type": "markdown",
   "metadata": {},
   "source": [
    "# 类间相似度计算 欧氏距离"
   ]
  },
  {
   "cell_type": "code",
   "execution_count": 18,
   "metadata": {},
   "outputs": [],
   "source": [
    "def eucliDist(A,B):\n",
    "    A=np.array(A)\n",
    "    B=np.array(B)\n",
    "    return np.sqrt(sum(np.power((A-B),2)))"
   ]
  },
  {
   "cell_type": "code",
   "execution_count": 19,
   "metadata": {},
   "outputs": [],
   "source": [
    "barycenter=[0 for i in range(10)]\n",
    "for i in range(0,10):\n",
    "    barycenter[i]=cdata.loc[i]"
   ]
  },
  {
   "cell_type": "code",
   "execution_count": 21,
   "metadata": {},
   "outputs": [],
   "source": [
    "dist=np.zeros(100).reshape(10,10)\n",
    "for i in range(0,10):\n",
    "    for j in range(0,10):\n",
    "        dist[i][j]=eucliDist(barycenter[i],barycenter[j])"
   ]
  },
  {
   "cell_type": "code",
   "execution_count": 22,
   "metadata": {},
   "outputs": [
    {
     "data": {
      "text/plain": [
       "array([[  0.        , 130.23148188,  62.5921162 ,  76.63628354,\n",
       "         85.318328  ,  23.36906982, 106.786377  ,  22.07314858,\n",
       "        102.19874497,  81.71471363],\n",
       "       [130.23148188,   0.        ,  68.06754089,  54.40570699,\n",
       "         46.96770236, 108.07031138,  23.90054749, 109.13572212,\n",
       "         33.69225152,  49.63853026],\n",
       "       [ 62.5921162 ,  68.06754089,   0.        ,  14.24088119,\n",
       "         23.44654272,  40.15022191,  44.51585524,  41.40954183,\n",
       "         40.85202799,  19.42039873],\n",
       "       [ 76.63628354,  54.40570699,  14.24088119,   0.        ,\n",
       "         10.19355394,  54.04151959,  31.02820601,  55.36442614,\n",
       "         27.70001198,   6.95963074],\n",
       "       [ 85.318328  ,  46.96770236,  23.44654272,  10.19355394,\n",
       "          0.        ,  62.48108181,  24.63593797,  63.88806961,\n",
       "         18.70286308,   7.63835984],\n",
       "       [ 23.36906982, 108.07031138,  40.15022191,  54.04151959,\n",
       "         62.48108181,   0.        ,  84.62426661,   4.53396279,\n",
       "         79.33399054,  59.12035137],\n",
       "       [106.786377  ,  23.90054749,  44.51585524,  31.02820601,\n",
       "         24.63593797,  84.62426661,   0.        ,  85.72551119,\n",
       "         17.83048829,  26.37672848],\n",
       "       [ 22.07314858, 109.13572212,  41.40954183,  55.36442614,\n",
       "         63.88806961,   4.53396279,  85.72551119,   0.        ,\n",
       "         80.80726057,  60.51455252],\n",
       "       [102.19874497,  33.69225152,  40.85202799,  27.70001198,\n",
       "         18.70286308,  79.33399054,  17.83048829,  80.80726057,\n",
       "          0.        ,  22.58001766],\n",
       "       [ 81.71471363,  49.63853026,  19.42039873,   6.95963074,\n",
       "          7.63835984,  59.12035137,  26.37672848,  60.51455252,\n",
       "         22.58001766,   0.        ]])"
      ]
     },
     "execution_count": 22,
     "metadata": {},
     "output_type": "execute_result"
    }
   ],
   "source": [
    "dist"
   ]
  },
  {
   "cell_type": "code",
   "execution_count": null,
   "metadata": {},
   "outputs": [],
   "source": []
  },
  {
   "cell_type": "code",
   "execution_count": null,
   "metadata": {},
   "outputs": [],
   "source": []
  },
  {
   "cell_type": "code",
   "execution_count": null,
   "metadata": {},
   "outputs": [],
   "source": []
  },
  {
   "cell_type": "code",
   "execution_count": 87,
   "metadata": {},
   "outputs": [],
   "source": [
    "genre=10*['']\n",
    "for i in range(0,10):\n",
    "    for info in data:\n",
    "        genre[i]=data.loc[data[\"genre\"]==i]"
   ]
  }
 ],
 "metadata": {
  "kernelspec": {
   "display_name": "Python 3",
   "language": "python",
   "name": "python3"
  },
  "language_info": {
   "codemirror_mode": {
    "name": "ipython",
    "version": 3
   },
   "file_extension": ".py",
   "mimetype": "text/x-python",
   "name": "python",
   "nbconvert_exporter": "python",
   "pygments_lexer": "ipython3",
   "version": "3.6.10"
  }
 },
 "nbformat": 4,
 "nbformat_minor": 2
}
